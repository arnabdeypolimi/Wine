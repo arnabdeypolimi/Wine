{
 "cells": [
  {
   "cell_type": "code",
   "execution_count": 77,
   "metadata": {},
   "outputs": [],
   "source": [
    "import pandas as pd\n",
    "import numpy as np\n",
    "from sklearn.model_selection import train_test_split\n",
    "from sklearn.ensemble import RandomForestRegressor\n",
    "\n",
    "import matplotlib.pyplot as plt"
   ]
  },
  {
   "cell_type": "code",
   "execution_count": 78,
   "metadata": {},
   "outputs": [],
   "source": [
    "df=pd.read_csv(\"dataprocessed.csv\")"
   ]
  },
  {
   "cell_type": "code",
   "execution_count": 79,
   "metadata": {},
   "outputs": [
    {
     "data": {
      "text/plain": [
       "691"
      ]
     },
     "execution_count": 79,
     "metadata": {},
     "output_type": "execute_result"
    }
   ],
   "source": [
    "len(df.variety.unique())"
   ]
  },
  {
   "cell_type": "code",
   "execution_count": 80,
   "metadata": {},
   "outputs": [
    {
     "name": "stdout",
     "output_type": "stream",
     "text": [
      "The shape of our features is: (120915, 10)\n"
     ]
    }
   ],
   "source": [
    "print('The shape of our features is:', df.shape)"
   ]
  },
  {
   "cell_type": "code",
   "execution_count": 81,
   "metadata": {},
   "outputs": [
    {
     "data": {
      "text/html": [
       "<div>\n",
       "<style scoped>\n",
       "    .dataframe tbody tr th:only-of-type {\n",
       "        vertical-align: middle;\n",
       "    }\n",
       "\n",
       "    .dataframe tbody tr th {\n",
       "        vertical-align: top;\n",
       "    }\n",
       "\n",
       "    .dataframe thead th {\n",
       "        text-align: right;\n",
       "    }\n",
       "</style>\n",
       "<table border=\"1\" class=\"dataframe\">\n",
       "  <thead>\n",
       "    <tr style=\"text-align: right;\">\n",
       "      <th></th>\n",
       "      <th>price</th>\n",
       "      <th>points</th>\n",
       "    </tr>\n",
       "  </thead>\n",
       "  <tbody>\n",
       "    <tr>\n",
       "      <td>count</td>\n",
       "      <td>120915.000000</td>\n",
       "      <td>120915.000000</td>\n",
       "    </tr>\n",
       "    <tr>\n",
       "      <td>mean</td>\n",
       "      <td>35.368796</td>\n",
       "      <td>88.421726</td>\n",
       "    </tr>\n",
       "    <tr>\n",
       "      <td>std</td>\n",
       "      <td>41.031188</td>\n",
       "      <td>3.044954</td>\n",
       "    </tr>\n",
       "    <tr>\n",
       "      <td>min</td>\n",
       "      <td>4.000000</td>\n",
       "      <td>80.000000</td>\n",
       "    </tr>\n",
       "    <tr>\n",
       "      <td>25%</td>\n",
       "      <td>17.000000</td>\n",
       "      <td>86.000000</td>\n",
       "    </tr>\n",
       "    <tr>\n",
       "      <td>50%</td>\n",
       "      <td>25.000000</td>\n",
       "      <td>88.000000</td>\n",
       "    </tr>\n",
       "    <tr>\n",
       "      <td>75%</td>\n",
       "      <td>42.000000</td>\n",
       "      <td>91.000000</td>\n",
       "    </tr>\n",
       "    <tr>\n",
       "      <td>max</td>\n",
       "      <td>3300.000000</td>\n",
       "      <td>100.000000</td>\n",
       "    </tr>\n",
       "  </tbody>\n",
       "</table>\n",
       "</div>"
      ],
      "text/plain": [
       "               price         points\n",
       "count  120915.000000  120915.000000\n",
       "mean       35.368796      88.421726\n",
       "std        41.031188       3.044954\n",
       "min         4.000000      80.000000\n",
       "25%        17.000000      86.000000\n",
       "50%        25.000000      88.000000\n",
       "75%        42.000000      91.000000\n",
       "max      3300.000000     100.000000"
      ]
     },
     "execution_count": 81,
     "metadata": {},
     "output_type": "execute_result"
    }
   ],
   "source": [
    "df.describe()"
   ]
  },
  {
   "cell_type": "code",
   "execution_count": 95,
   "metadata": {},
   "outputs": [
    {
     "data": {
      "text/html": [
       "<div>\n",
       "<style scoped>\n",
       "    .dataframe tbody tr th:only-of-type {\n",
       "        vertical-align: middle;\n",
       "    }\n",
       "\n",
       "    .dataframe tbody tr th {\n",
       "        vertical-align: top;\n",
       "    }\n",
       "\n",
       "    .dataframe thead th {\n",
       "        text-align: right;\n",
       "    }\n",
       "</style>\n",
       "<table border=\"1\" class=\"dataframe\">\n",
       "  <thead>\n",
       "    <tr style=\"text-align: right;\">\n",
       "      <th></th>\n",
       "      <th>variety</th>\n",
       "      <th>designation</th>\n",
       "      <th>country</th>\n",
       "      <th>province</th>\n",
       "      <th>winery</th>\n",
       "      <th>taster_name</th>\n",
       "      <th>points</th>\n",
       "    </tr>\n",
       "  </thead>\n",
       "  <tbody>\n",
       "    <tr>\n",
       "      <td>0</td>\n",
       "      <td>portuguese red</td>\n",
       "      <td>avidagos</td>\n",
       "      <td>portugal</td>\n",
       "      <td>douro</td>\n",
       "      <td>quinta dos avidagos</td>\n",
       "      <td>roger voss</td>\n",
       "      <td>87</td>\n",
       "    </tr>\n",
       "    <tr>\n",
       "      <td>1</td>\n",
       "      <td>pinot gris</td>\n",
       "      <td>oregon</td>\n",
       "      <td>us</td>\n",
       "      <td>oregon</td>\n",
       "      <td>rainstorm</td>\n",
       "      <td>paul gregutt</td>\n",
       "      <td>87</td>\n",
       "    </tr>\n",
       "    <tr>\n",
       "      <td>2</td>\n",
       "      <td>riesling</td>\n",
       "      <td>reserve late harvest</td>\n",
       "      <td>us</td>\n",
       "      <td>michigan</td>\n",
       "      <td>st. julian</td>\n",
       "      <td>alexander peartree</td>\n",
       "      <td>87</td>\n",
       "    </tr>\n",
       "    <tr>\n",
       "      <td>3</td>\n",
       "      <td>pinot noir</td>\n",
       "      <td>vintner's reserve wild child block</td>\n",
       "      <td>us</td>\n",
       "      <td>oregon</td>\n",
       "      <td>sweet cheeks</td>\n",
       "      <td>paul gregutt</td>\n",
       "      <td>87</td>\n",
       "    </tr>\n",
       "    <tr>\n",
       "      <td>4</td>\n",
       "      <td>tempranillo-merlot</td>\n",
       "      <td>ars in vitro</td>\n",
       "      <td>spain</td>\n",
       "      <td>northern spain</td>\n",
       "      <td>tandem</td>\n",
       "      <td>michael schachner</td>\n",
       "      <td>87</td>\n",
       "    </tr>\n",
       "    <tr>\n",
       "      <td>5</td>\n",
       "      <td>frappato</td>\n",
       "      <td>belsito</td>\n",
       "      <td>italy</td>\n",
       "      <td>sicily &amp; sardinia</td>\n",
       "      <td>terre di giurfo</td>\n",
       "      <td>kerin o’keefe</td>\n",
       "      <td>87</td>\n",
       "    </tr>\n",
       "    <tr>\n",
       "      <td>6</td>\n",
       "      <td>gewürztraminer</td>\n",
       "      <td>alsace</td>\n",
       "      <td>france</td>\n",
       "      <td>alsace</td>\n",
       "      <td>trimbach</td>\n",
       "      <td>roger voss</td>\n",
       "      <td>87</td>\n",
       "    </tr>\n",
       "    <tr>\n",
       "      <td>7</td>\n",
       "      <td>gewürztraminer</td>\n",
       "      <td>shine</td>\n",
       "      <td>germany</td>\n",
       "      <td>rheinhessen</td>\n",
       "      <td>heinz eifel</td>\n",
       "      <td>anna lee c. iijima</td>\n",
       "      <td>87</td>\n",
       "    </tr>\n",
       "    <tr>\n",
       "      <td>8</td>\n",
       "      <td>pinot gris</td>\n",
       "      <td>les natures</td>\n",
       "      <td>france</td>\n",
       "      <td>alsace</td>\n",
       "      <td>jean-baptiste adam</td>\n",
       "      <td>roger voss</td>\n",
       "      <td>87</td>\n",
       "    </tr>\n",
       "    <tr>\n",
       "      <td>9</td>\n",
       "      <td>cabernet sauvignon</td>\n",
       "      <td>mountain cuvée</td>\n",
       "      <td>us</td>\n",
       "      <td>california</td>\n",
       "      <td>kirkland signature</td>\n",
       "      <td>virginie boone</td>\n",
       "      <td>87</td>\n",
       "    </tr>\n",
       "  </tbody>\n",
       "</table>\n",
       "</div>"
      ],
      "text/plain": [
       "              variety                         designation   country  \\\n",
       "0      portuguese red                            avidagos  portugal   \n",
       "1          pinot gris                              oregon        us   \n",
       "2            riesling                reserve late harvest        us   \n",
       "3          pinot noir  vintner's reserve wild child block        us   \n",
       "4  tempranillo-merlot                        ars in vitro     spain   \n",
       "5            frappato                             belsito     italy   \n",
       "6      gewürztraminer                              alsace    france   \n",
       "7      gewürztraminer                               shine   germany   \n",
       "8          pinot gris                         les natures    france   \n",
       "9  cabernet sauvignon                      mountain cuvée        us   \n",
       "\n",
       "            province               winery         taster_name  points  \n",
       "0              douro  quinta dos avidagos          roger voss      87  \n",
       "1             oregon            rainstorm        paul gregutt      87  \n",
       "2           michigan           st. julian  alexander peartree      87  \n",
       "3             oregon         sweet cheeks        paul gregutt      87  \n",
       "4     northern spain               tandem   michael schachner      87  \n",
       "5  sicily & sardinia      terre di giurfo       kerin o’keefe      87  \n",
       "6             alsace             trimbach          roger voss      87  \n",
       "7        rheinhessen          heinz eifel  anna lee c. iijima      87  \n",
       "8             alsace   jean-baptiste adam          roger voss      87  \n",
       "9         california   kirkland signature      virginie boone      87  "
      ]
     },
     "execution_count": 95,
     "metadata": {},
     "output_type": "execute_result"
    }
   ],
   "source": [
    "df.head(10)"
   ]
  },
  {
   "cell_type": "code",
   "execution_count": 83,
   "metadata": {},
   "outputs": [],
   "source": [
    "# del df[['taster_name','description','title']]\n",
    "df.taster_name.fillna(-1)\n",
    "del df['description']\n",
    "del df['title']\n",
    "# df=pd.get_dummies(df)"
   ]
  },
  {
   "cell_type": "code",
   "execution_count": 84,
   "metadata": {},
   "outputs": [],
   "source": [
    "labels=np.array(df['price'])"
   ]
  },
  {
   "cell_type": "code",
   "execution_count": 85,
   "metadata": {},
   "outputs": [],
   "source": [
    "df=df.drop('price',axis=1)"
   ]
  },
  {
   "cell_type": "code",
   "execution_count": 34,
   "metadata": {},
   "outputs": [],
   "source": [
    "# df=df.values"
   ]
  },
  {
   "cell_type": "code",
   "execution_count": null,
   "metadata": {},
   "outputs": [],
   "source": [
    "# train_features, test_features, train_labels, test_labels = train_test_split(df, labels, test_size = 0.25, random_state = 42)\n",
    "# print('Training Features Shape:', train_features.shape)\n",
    "# print('Training Labels Shape:', train_labels.shape)\n",
    "# print('Testing Features Shape:', test_features.shape)\n",
    "# print('Testing Labels Shape:', test_labels.shape)"
   ]
  },
  {
   "cell_type": "code",
   "execution_count": null,
   "metadata": {},
   "outputs": [],
   "source": [
    "# # Instantiate model with 1000 decision trees\n",
    "# rf = RandomForestRegressor(n_estimators = 1000, random_state = 42)\n",
    "# # Train the model on training data\n",
    "# rf.fit(train_features, train_labels);"
   ]
  },
  {
   "cell_type": "code",
   "execution_count": null,
   "metadata": {},
   "outputs": [],
   "source": [
    "# predictions = rf.predict(test_features)\n",
    "# # Calculate the absolute errors\n",
    "# errors = abs(predictions - test_labels)\n",
    "# # Print out the mean absolute error (mae)\n",
    "# print('Mean Absolute Error:', round(np.mean(errors), 2), 'degrees.')"
   ]
  },
  {
   "cell_type": "code",
   "execution_count": 86,
   "metadata": {},
   "outputs": [
    {
     "data": {
      "text/html": [
       "<div>\n",
       "<style scoped>\n",
       "    .dataframe tbody tr th:only-of-type {\n",
       "        vertical-align: middle;\n",
       "    }\n",
       "\n",
       "    .dataframe tbody tr th {\n",
       "        vertical-align: top;\n",
       "    }\n",
       "\n",
       "    .dataframe thead th {\n",
       "        text-align: right;\n",
       "    }\n",
       "</style>\n",
       "<table border=\"1\" class=\"dataframe\">\n",
       "  <thead>\n",
       "    <tr style=\"text-align: right;\">\n",
       "      <th></th>\n",
       "      <th>variety</th>\n",
       "      <th>designation</th>\n",
       "      <th>country</th>\n",
       "      <th>province</th>\n",
       "      <th>winery</th>\n",
       "      <th>taster_name</th>\n",
       "      <th>points</th>\n",
       "    </tr>\n",
       "  </thead>\n",
       "  <tbody>\n",
       "    <tr>\n",
       "      <td>0</td>\n",
       "      <td>portuguese red</td>\n",
       "      <td>avidagos</td>\n",
       "      <td>portugal</td>\n",
       "      <td>douro</td>\n",
       "      <td>quinta dos avidagos</td>\n",
       "      <td>roger voss</td>\n",
       "      <td>87</td>\n",
       "    </tr>\n",
       "    <tr>\n",
       "      <td>1</td>\n",
       "      <td>pinot gris</td>\n",
       "      <td>oregon</td>\n",
       "      <td>us</td>\n",
       "      <td>oregon</td>\n",
       "      <td>rainstorm</td>\n",
       "      <td>paul gregutt</td>\n",
       "      <td>87</td>\n",
       "    </tr>\n",
       "    <tr>\n",
       "      <td>2</td>\n",
       "      <td>riesling</td>\n",
       "      <td>reserve late harvest</td>\n",
       "      <td>us</td>\n",
       "      <td>michigan</td>\n",
       "      <td>st. julian</td>\n",
       "      <td>alexander peartree</td>\n",
       "      <td>87</td>\n",
       "    </tr>\n",
       "    <tr>\n",
       "      <td>3</td>\n",
       "      <td>pinot noir</td>\n",
       "      <td>vintner's reserve wild child block</td>\n",
       "      <td>us</td>\n",
       "      <td>oregon</td>\n",
       "      <td>sweet cheeks</td>\n",
       "      <td>paul gregutt</td>\n",
       "      <td>87</td>\n",
       "    </tr>\n",
       "    <tr>\n",
       "      <td>4</td>\n",
       "      <td>tempranillo-merlot</td>\n",
       "      <td>ars in vitro</td>\n",
       "      <td>spain</td>\n",
       "      <td>northern spain</td>\n",
       "      <td>tandem</td>\n",
       "      <td>michael schachner</td>\n",
       "      <td>87</td>\n",
       "    </tr>\n",
       "    <tr>\n",
       "      <td>...</td>\n",
       "      <td>...</td>\n",
       "      <td>...</td>\n",
       "      <td>...</td>\n",
       "      <td>...</td>\n",
       "      <td>...</td>\n",
       "      <td>...</td>\n",
       "      <td>...</td>\n",
       "    </tr>\n",
       "    <tr>\n",
       "      <td>120910</td>\n",
       "      <td>riesling</td>\n",
       "      <td>brauneberger juffer-sonnenuhr spätlese</td>\n",
       "      <td>germany</td>\n",
       "      <td>mosel</td>\n",
       "      <td>dr. h. thanisch (erben müller-burggraef)</td>\n",
       "      <td>anna lee c. iijima</td>\n",
       "      <td>90</td>\n",
       "    </tr>\n",
       "    <tr>\n",
       "      <td>120911</td>\n",
       "      <td>pinot noir</td>\n",
       "      <td>oregon</td>\n",
       "      <td>us</td>\n",
       "      <td>oregon</td>\n",
       "      <td>citation</td>\n",
       "      <td>paul gregutt</td>\n",
       "      <td>90</td>\n",
       "    </tr>\n",
       "    <tr>\n",
       "      <td>120912</td>\n",
       "      <td>gewürztraminer</td>\n",
       "      <td>kritt</td>\n",
       "      <td>france</td>\n",
       "      <td>alsace</td>\n",
       "      <td>domaine gresser</td>\n",
       "      <td>roger voss</td>\n",
       "      <td>90</td>\n",
       "    </tr>\n",
       "    <tr>\n",
       "      <td>120913</td>\n",
       "      <td>pinot gris</td>\n",
       "      <td>alsace</td>\n",
       "      <td>france</td>\n",
       "      <td>alsace</td>\n",
       "      <td>domaine marcel deiss</td>\n",
       "      <td>roger voss</td>\n",
       "      <td>90</td>\n",
       "    </tr>\n",
       "    <tr>\n",
       "      <td>120914</td>\n",
       "      <td>gewürztraminer</td>\n",
       "      <td>lieu-dit harth cuvée caroline</td>\n",
       "      <td>france</td>\n",
       "      <td>alsace</td>\n",
       "      <td>domaine schoffit</td>\n",
       "      <td>roger voss</td>\n",
       "      <td>90</td>\n",
       "    </tr>\n",
       "  </tbody>\n",
       "</table>\n",
       "<p>120915 rows × 7 columns</p>\n",
       "</div>"
      ],
      "text/plain": [
       "                   variety                             designation   country  \\\n",
       "0           portuguese red                                avidagos  portugal   \n",
       "1               pinot gris                                  oregon        us   \n",
       "2                 riesling                    reserve late harvest        us   \n",
       "3               pinot noir      vintner's reserve wild child block        us   \n",
       "4       tempranillo-merlot                            ars in vitro     spain   \n",
       "...                    ...                                     ...       ...   \n",
       "120910            riesling  brauneberger juffer-sonnenuhr spätlese   germany   \n",
       "120911          pinot noir                                  oregon        us   \n",
       "120912      gewürztraminer                                   kritt    france   \n",
       "120913          pinot gris                                  alsace    france   \n",
       "120914      gewürztraminer           lieu-dit harth cuvée caroline    france   \n",
       "\n",
       "              province                                    winery  \\\n",
       "0                douro                       quinta dos avidagos   \n",
       "1               oregon                                 rainstorm   \n",
       "2             michigan                                st. julian   \n",
       "3               oregon                              sweet cheeks   \n",
       "4       northern spain                                    tandem   \n",
       "...                ...                                       ...   \n",
       "120910           mosel  dr. h. thanisch (erben müller-burggraef)   \n",
       "120911          oregon                                  citation   \n",
       "120912          alsace                           domaine gresser   \n",
       "120913          alsace                      domaine marcel deiss   \n",
       "120914          alsace                          domaine schoffit   \n",
       "\n",
       "               taster_name  points  \n",
       "0               roger voss      87  \n",
       "1             paul gregutt      87  \n",
       "2       alexander peartree      87  \n",
       "3             paul gregutt      87  \n",
       "4        michael schachner      87  \n",
       "...                    ...     ...  \n",
       "120910  anna lee c. iijima      90  \n",
       "120911        paul gregutt      90  \n",
       "120912          roger voss      90  \n",
       "120913          roger voss      90  \n",
       "120914          roger voss      90  \n",
       "\n",
       "[120915 rows x 7 columns]"
      ]
     },
     "execution_count": 86,
     "metadata": {},
     "output_type": "execute_result"
    }
   ],
   "source": [
    "df"
   ]
  },
  {
   "cell_type": "code",
   "execution_count": 87,
   "metadata": {},
   "outputs": [
    {
     "name": "stdout",
     "output_type": "stream",
     "text": [
      "Index(['variety', 'designation', 'country', 'province', 'winery',\n",
      "       'taster_name', 'points'],\n",
      "      dtype='object')\n"
     ]
    }
   ],
   "source": [
    "from sklearn.model_selection import train_test_split\n",
    "from catboost import Pool, CatBoostRegressor, cv\n",
    "\n",
    "X=df\n",
    "\n",
    "X=X.fillna(-1)\n",
    "print(X.columns)\n",
    "categorical_features_indices =[0,1,2,3,4,5,6]\n",
    "y=labels\n",
    "\n",
    "X_train, X_test, y_train, y_test = train_test_split(X, y, test_size=0.2, \n",
    "                                                    random_state=42)\n",
    "\n",
    "X_train, X_valid, y_train, y_valid = train_test_split(X_train, y_train, test_size=0.2, \n",
    "                                                    random_state=52)"
   ]
  },
  {
   "cell_type": "code",
   "execution_count": 88,
   "metadata": {},
   "outputs": [
    {
     "data": {
      "text/plain": [
       "[0, 1, 2, 3, 4, 5, 6]"
      ]
     },
     "execution_count": 88,
     "metadata": {},
     "output_type": "execute_result"
    }
   ],
   "source": [
    "categorical_features_indices"
   ]
  },
  {
   "cell_type": "code",
   "execution_count": 93,
   "metadata": {},
   "outputs": [],
   "source": [
    "def perform_model(X_train, y_train,X_valid, y_valid,X_test, y_test):\n",
    "    model = CatBoostRegressor(\n",
    "        random_seed = 400,\n",
    "        loss_function = 'RMSE',\n",
    "        iterations=100,\n",
    "    )\n",
    "    \n",
    "    model.fit(\n",
    "        X_train, y_train,\n",
    "        cat_features = categorical_features_indices,\n",
    "        eval_set=(X_valid, y_valid),\n",
    "        verbose=False\n",
    "    )\n",
    "    \n",
    "    print(\"RMSE on training data: \"+ model.score(X_train, y_train).astype(str))\n",
    "    print(\"RMSE on test data: \"+ model.score(X_test, y_test).astype(str))\n",
    "    \n",
    "    return model"
   ]
  },
  {
   "cell_type": "code",
   "execution_count": 94,
   "metadata": {},
   "outputs": [
    {
     "name": "stdout",
     "output_type": "stream",
     "text": [
      "RMSE on training data: 0.5591728787094588\n",
      "RMSE on test data: 0.3514526190642865\n"
     ]
    }
   ],
   "source": [
    "model=perform_model(X_train, y_train,X_valid, y_valid,X_test, y_test)"
   ]
  },
  {
   "cell_type": "code",
   "execution_count": 128,
   "metadata": {},
   "outputs": [
    {
     "name": "stdout",
     "output_type": "stream",
     "text": [
      "[15.93165419 16.77449444 57.80786011 ... 12.3574002  20.25433892\n",
      " 51.32089565]\n",
      "[15. 23. 48. ... 14. 22. 50.]\n"
     ]
    },
    {
     "data": {
      "text/plain": [
       "[<matplotlib.lines.Line2D at 0x19bcc438d08>]"
      ]
     },
     "execution_count": 128,
     "metadata": {},
     "output_type": "execute_result"
    },
    {
     "data": {
      "image/png": "[encoded data removed]",
      "text/plain": [
       "<Figure size 864x504 with 1 Axes>"
      ]
     },
     "metadata": {
      "needs_background": "light"
     },
     "output_type": "display_data"
    }
   ],
   "source": [
    "y_test_pred=model.predict(X_test)\n",
    "print(y_test_pred)\n",
    "print(y_test)\n",
    "sorted_ind=np.argsort(y_test)\n",
    "plt.plot(y_test[sorted_ind][:100])\n",
    "plt.plot(y_test_pred[sorted_ind][:100])"
   ]
  },
  {
   "cell_type": "code",
   "execution_count": 119,
   "metadata": {},
   "outputs": [
    {
     "data": {
      "text/plain": [
       "[<matplotlib.lines.Line2D at 0x19bcf179c88>]"
      ]
     },
     "execution_count": 119,
     "metadata": {},
     "output_type": "execute_result"
    },
    {
     "data": {
      "image/png": "[encoded data removed]",
      "text/plain": [
       "<Figure size 864x504 with 1 Axes>"
      ]
     },
     "metadata": {
      "needs_background": "light"
     },
     "output_type": "display_data"
    }
   ],
   "source": [
    "a=np.histogram(y_train, bins=int(np.max(y_train)))\n",
    "plt.plot(a[0][:100])"
   ]
  },
  {
   "cell_type": "code",
   "execution_count": 91,
   "metadata": {},
   "outputs": [],
   "source": [
    "feature_score = pd.DataFrame(list(zip(X.dtypes.index, model.get_feature_importance(Pool(X, label=y, cat_features=categorical_features_indices)))),\n",
    "                columns=['Feature','Score'])\n",
    "\n",
    "feature_score = feature_score.sort_values(by='Score', ascending=False, inplace=False, kind='quicksort', na_position='last')"
   ]
  },
  {
   "cell_type": "code",
   "execution_count": 92,
   "metadata": {},
   "outputs": [
    {
     "data": {
      "image/png": "[encoded data removed]",
      "text/plain": [
       "<Figure size 864x504 with 1 Axes>"
      ]
     },
     "metadata": {
      "needs_background": "light"
     },
     "output_type": "display_data"
    }
   ],
   "source": [
    "plt.rcParams[\"figure.figsize\"] = (12,7)\n",
    "ax = feature_score.plot('Feature', 'Score', kind='bar', color='c')\n",
    "ax.set_title(\"Catboost Feature Importance Ranking\", fontsize = 14)\n",
    "ax.set_xlabel('')\n",
    "\n",
    "rects = ax.patches\n",
    "\n",
    "labels = feature_score['Score'].round(2)\n",
    "\n",
    "for rect, label in zip(rects, labels):\n",
    "    height = rect.get_height()\n",
    "    ax.text(rect.get_x() + rect.get_width()/2, height + 0.35, label, ha='center', va='bottom')\n",
    "\n",
    "plt.show()"
   ]
  },
  {
   "cell_type": "code",
   "execution_count": null,
   "metadata": {},
   "outputs": [],
   "source": []
  }
 ],
 "metadata": {
  "kernelspec": {
   "display_name": "Python 3",
   "language": "python",
   "name": "python3"
  },
  "language_info": {
   "codemirror_mode": {
    "name": "ipython",
    "version": 3
   },
   "file_extension": ".py",
   "mimetype": "text/x-python",
   "name": "python",
   "nbconvert_exporter": "python",
   "pygments_lexer": "ipython3",
   "version": "3.7.4"
  }
 },
 "nbformat": 4,
 "nbformat_minor": 2
}
