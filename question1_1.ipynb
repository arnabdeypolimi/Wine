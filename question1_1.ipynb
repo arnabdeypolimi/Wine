{
 "cells": [
  {
   "cell_type": "markdown",
   "metadata": {},
   "source": [
    "This is part of the Question 1. Here you can find the AdaBoostRegressor implementation with output "
   ]
  },
  {
   "cell_type": "code",
   "execution_count": 5,
   "metadata": {},
   "outputs": [],
   "source": [
    "import pandas as pd\n",
    "import numpy as np\n",
    "from sklearn.model_selection import train_test_split\n",
    "from sklearn.ensemble import RandomForestRegressor\n",
    "import matplotlib.pyplot as plt\n",
    "from sklearn.model_selection import train_test_split\n",
    "from catboost import Pool, CatBoostRegressor, cv"
   ]
  },
  {
   "cell_type": "code",
   "execution_count": 6,
   "metadata": {},
   "outputs": [
    {
     "name": "stdout",
     "output_type": "stream",
     "text": [
      "The shape of our features is: (120915, 10)\n"
     ]
    }
   ],
   "source": [
    "df=pd.read_csv(\"dataprocessed.csv\")\n",
    "print('The shape of our features is:', df.shape)"
   ]
  },
  {
   "cell_type": "code",
   "execution_count": 10,
   "metadata": {},
   "outputs": [
    {
     "data": {
      "text/html": [
       "<div>\n",
       "<style scoped>\n",
       "    .dataframe tbody tr th:only-of-type {\n",
       "        vertical-align: middle;\n",
       "    }\n",
       "\n",
       "    .dataframe tbody tr th {\n",
       "        vertical-align: top;\n",
       "    }\n",
       "\n",
       "    .dataframe thead th {\n",
       "        text-align: right;\n",
       "    }\n",
       "</style>\n",
       "<table border=\"1\" class=\"dataframe\">\n",
       "  <thead>\n",
       "    <tr style=\"text-align: right;\">\n",
       "      <th></th>\n",
       "      <th>title</th>\n",
       "      <th>variety</th>\n",
       "      <th>designation</th>\n",
       "      <th>country</th>\n",
       "      <th>province</th>\n",
       "      <th>description</th>\n",
       "      <th>winery</th>\n",
       "      <th>taster_name</th>\n",
       "      <th>points</th>\n",
       "    </tr>\n",
       "  </thead>\n",
       "  <tbody>\n",
       "    <tr>\n",
       "      <td>0</td>\n",
       "      <td>quinta dos avidagos 2011 avidagos red (douro)</td>\n",
       "      <td>portuguese red</td>\n",
       "      <td>avidagos</td>\n",
       "      <td>portugal</td>\n",
       "      <td>douro</td>\n",
       "      <td>this is ripe and fruity, a wine that is smooth...</td>\n",
       "      <td>quinta dos avidagos</td>\n",
       "      <td>roger voss</td>\n",
       "      <td>87</td>\n",
       "    </tr>\n",
       "    <tr>\n",
       "      <td>1</td>\n",
       "      <td>rainstorm 2013 pinot gris (willamette valley)</td>\n",
       "      <td>pinot gris</td>\n",
       "      <td>unknown</td>\n",
       "      <td>us</td>\n",
       "      <td>oregon</td>\n",
       "      <td>tart and snappy, the flavors of lime flesh and...</td>\n",
       "      <td>rainstorm</td>\n",
       "      <td>paul gregutt</td>\n",
       "      <td>87</td>\n",
       "    </tr>\n",
       "    <tr>\n",
       "      <td>2</td>\n",
       "      <td>st. julian 2013 reserve late harvest riesling ...</td>\n",
       "      <td>riesling</td>\n",
       "      <td>reserve late harvest</td>\n",
       "      <td>us</td>\n",
       "      <td>michigan</td>\n",
       "      <td>pineapple rind, lemon pith and orange blossom ...</td>\n",
       "      <td>st. julian</td>\n",
       "      <td>alexander peartree</td>\n",
       "      <td>87</td>\n",
       "    </tr>\n",
       "    <tr>\n",
       "      <td>3</td>\n",
       "      <td>sweet cheeks 2012 vintner's reserve wild child...</td>\n",
       "      <td>pinot noir</td>\n",
       "      <td>vintner's reserve wild child block</td>\n",
       "      <td>us</td>\n",
       "      <td>oregon</td>\n",
       "      <td>much like the regular bottling from 2012, this...</td>\n",
       "      <td>sweet cheeks</td>\n",
       "      <td>paul gregutt</td>\n",
       "      <td>87</td>\n",
       "    </tr>\n",
       "    <tr>\n",
       "      <td>4</td>\n",
       "      <td>tandem 2011 ars in vitro tempranillo-merlot (n...</td>\n",
       "      <td>tempranillo-merlot</td>\n",
       "      <td>ars in vitro</td>\n",
       "      <td>spain</td>\n",
       "      <td>northern spain</td>\n",
       "      <td>blackberry and raspberry aromas show a typical...</td>\n",
       "      <td>tandem</td>\n",
       "      <td>michael schachner</td>\n",
       "      <td>87</td>\n",
       "    </tr>\n",
       "  </tbody>\n",
       "</table>\n",
       "</div>"
      ],
      "text/plain": [
       "                                               title             variety  \\\n",
       "0      quinta dos avidagos 2011 avidagos red (douro)      portuguese red   \n",
       "1      rainstorm 2013 pinot gris (willamette valley)          pinot gris   \n",
       "2  st. julian 2013 reserve late harvest riesling ...            riesling   \n",
       "3  sweet cheeks 2012 vintner's reserve wild child...          pinot noir   \n",
       "4  tandem 2011 ars in vitro tempranillo-merlot (n...  tempranillo-merlot   \n",
       "\n",
       "                          designation   country        province  \\\n",
       "0                            avidagos  portugal           douro   \n",
       "1                             unknown        us          oregon   \n",
       "2                reserve late harvest        us        michigan   \n",
       "3  vintner's reserve wild child block        us          oregon   \n",
       "4                        ars in vitro     spain  northern spain   \n",
       "\n",
       "                                         description               winery  \\\n",
       "0  this is ripe and fruity, a wine that is smooth...  quinta dos avidagos   \n",
       "1  tart and snappy, the flavors of lime flesh and...            rainstorm   \n",
       "2  pineapple rind, lemon pith and orange blossom ...           st. julian   \n",
       "3  much like the regular bottling from 2012, this...         sweet cheeks   \n",
       "4  blackberry and raspberry aromas show a typical...               tandem   \n",
       "\n",
       "          taster_name  points  \n",
       "0          roger voss      87  \n",
       "1        paul gregutt      87  \n",
       "2  alexander peartree      87  \n",
       "3        paul gregutt      87  \n",
       "4   michael schachner      87  "
      ]
     },
     "execution_count": 10,
     "metadata": {},
     "output_type": "execute_result"
    }
   ],
   "source": [
    "df.head(5)"
   ]
  },
  {
   "cell_type": "code",
   "execution_count": 8,
   "metadata": {},
   "outputs": [],
   "source": [
    "labels=np.array(df['price'])\n",
    "df=df.drop('price',axis=1)"
   ]
  },
  {
   "cell_type": "code",
   "execution_count": 11,
   "metadata": {},
   "outputs": [
    {
     "name": "stdout",
     "output_type": "stream",
     "text": [
      "Index(['variety', 'designation', 'country', 'province', 'winery',\n",
      "       'taster_name', 'points'],\n",
      "      dtype='object')\n"
     ]
    }
   ],
   "source": [
    "X=df[['variety', 'designation', 'country', 'province',\n",
    "       'winery', 'taster_name', 'points']]\n",
    "\n",
    "X=X.fillna('unknown')\n",
    "print(X.columns)\n",
    "categorical_features_indices =[0,1,2,3,4,5]\n",
    "y=labels\n",
    "\n",
    "X_train, X_test, y_train, y_test = train_test_split(X, y, test_size=0.2, \n",
    "                                                    random_state=42)\n",
    "\n",
    "X_train, X_valid, y_train, y_valid = train_test_split(X_train, y_train, test_size=0.2, \n",
    "                                                    random_state=52)"
   ]
  },
  {
   "cell_type": "code",
   "execution_count": 12,
   "metadata": {},
   "outputs": [
    {
     "data": {
      "text/plain": [
       "[0, 1, 2, 3, 4, 5]"
      ]
     },
     "execution_count": 12,
     "metadata": {},
     "output_type": "execute_result"
    }
   ],
   "source": [
    "categorical_features_indices"
   ]
  },
  {
   "cell_type": "markdown",
   "metadata": {},
   "source": []
  },
  {
   "cell_type": "code",
   "execution_count": 93,
   "metadata": {},
   "outputs": [],
   "source": [
    "def perform_model(X_train, y_train,X_valid, y_valid,X_test, y_test):\n",
    "    model = CatBoostRegressor(\n",
    "        random_seed = 400,\n",
    "        loss_function = 'RMSE',\n",
    "        iterations=100,\n",
    "    )\n",
    "    \n",
    "    model.fit(\n",
    "        X_train, y_train,\n",
    "        cat_features = categorical_features_indices,\n",
    "        eval_set=(X_valid, y_valid),\n",
    "        verbose=False\n",
    "    )\n",
    "    \n",
    "    print(\"RMSE on training data: \"+ model.score(X_train, y_train).astype(str))\n",
    "    print(\"RMSE on test data: \"+ model.score(X_test, y_test).astype(str))\n",
    "    \n",
    "    return model"
   ]
  },
  {
   "cell_type": "code",
   "execution_count": 94,
   "metadata": {},
   "outputs": [
    {
     "name": "stdout",
     "output_type": "stream",
     "text": [
      "RMSE on training data: 0.5591728787094588\n",
      "RMSE on test data: 0.3514526190642865\n"
     ]
    }
   ],
   "source": [
    "model=perform_model(X_train, y_train,X_valid, y_valid,X_test, y_test)"
   ]
  },
  {
   "cell_type": "markdown",
   "metadata": {},
   "source": [
    "You can see model achieved RMSE(root mean square error) error 0.35 for test set "
   ]
  },
  {
   "cell_type": "code",
   "execution_count": 91,
   "metadata": {},
   "outputs": [],
   "source": [
    "feature_score = pd.DataFrame(list(zip(X.dtypes.index, model.get_feature_importance(Pool(X, label=y, cat_features=categorical_features_indices)))),\n",
    "                columns=['Feature','Score'])\n",
    "\n",
    "feature_score = feature_score.sort_values(by='Score', ascending=False, inplace=False, kind='quicksort', na_position='last')"
   ]
  },
  {
   "cell_type": "code",
   "execution_count": 92,
   "metadata": {},
   "outputs": [
    {
     "data": {
      "image/png": "[encoded data removed]",
      "text/plain": [
       "<Figure size 864x504 with 1 Axes>"
      ]
     },
     "metadata": {
      "needs_background": "light"
     },
     "output_type": "display_data"
    }
   ],
   "source": [
    "plt.rcParams[\"figure.figsize\"] = (12,7)\n",
    "ax = feature_score.plot('Feature', 'Score', kind='bar', color='c')\n",
    "ax.set_title(\"Catboost Feature Importance Ranking\", fontsize = 14)\n",
    "ax.set_xlabel('')\n",
    "\n",
    "rects = ax.patches\n",
    "\n",
    "labels = feature_score['Score'].round(2)\n",
    "\n",
    "for rect, label in zip(rects, labels):\n",
    "    height = rect.get_height()\n",
    "    ax.text(rect.get_x() + rect.get_width()/2, height + 0.35, label, ha='center', va='bottom')\n",
    "\n",
    "plt.show()"
   ]
  },
  {
   "cell_type": "markdown",
   "metadata": {},
   "source": [
    "The plot shows where are the important features for our problem. As we expected points are very important and country is not very important as feature."
   ]
  },
  {
   "cell_type": "code",
   "execution_count": null,
   "metadata": {},
   "outputs": [],
   "source": []
  }
 ],
 "metadata": {
  "kernelspec": {
   "display_name": "Python 3",
   "language": "python",
   "name": "python3"
  },
  "language_info": {
   "codemirror_mode": {
    "name": "ipython",
    "version": 3
   },
   "file_extension": ".py",
   "mimetype": "text/x-python",
   "name": "python",
   "nbconvert_exporter": "python",
   "pygments_lexer": "ipython3",
   "version": "3.7.4"
  }
 },
 "nbformat": 4,
 "nbformat_minor": 2
}
