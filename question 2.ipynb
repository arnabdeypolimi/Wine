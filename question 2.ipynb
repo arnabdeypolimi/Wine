{
 "cells": [
  {
   "cell_type": "code",
   "execution_count": 1,
   "metadata": {},
   "outputs": [],
   "source": [
    "import pandas as pd\n",
    "import numpy as np\n",
    "from sklearn.model_selection import train_test_split\n",
    "from sklearn.ensemble import RandomForestRegressor"
   ]
  },
  {
   "cell_type": "code",
   "execution_count": 2,
   "metadata": {},
   "outputs": [],
   "source": [
    "df=pd.read_csv(\"dataprocessed.csv\")"
   ]
  },
  {
   "cell_type": "code",
   "execution_count": 3,
   "metadata": {},
   "outputs": [
    {
     "data": {
      "text/plain": [
       "691"
      ]
     },
     "execution_count": 3,
     "metadata": {},
     "output_type": "execute_result"
    }
   ],
   "source": [
    "len(df.variety.unique())"
   ]
  },
  {
   "cell_type": "code",
   "execution_count": 4,
   "metadata": {},
   "outputs": [
    {
     "name": "stdout",
     "output_type": "stream",
     "text": [
      "The shape of our features is: (120915, 10)\n"
     ]
    }
   ],
   "source": [
    "print('The shape of our features is:', df.shape)"
   ]
  },
  {
   "cell_type": "code",
   "execution_count": 5,
   "metadata": {},
   "outputs": [
    {
     "data": {
      "text/html": [
       "<div>\n",
       "<style scoped>\n",
       "    .dataframe tbody tr th:only-of-type {\n",
       "        vertical-align: middle;\n",
       "    }\n",
       "\n",
       "    .dataframe tbody tr th {\n",
       "        vertical-align: top;\n",
       "    }\n",
       "\n",
       "    .dataframe thead th {\n",
       "        text-align: right;\n",
       "    }\n",
       "</style>\n",
       "<table border=\"1\" class=\"dataframe\">\n",
       "  <thead>\n",
       "    <tr style=\"text-align: right;\">\n",
       "      <th></th>\n",
       "      <th>price</th>\n",
       "      <th>points</th>\n",
       "    </tr>\n",
       "  </thead>\n",
       "  <tbody>\n",
       "    <tr>\n",
       "      <th>count</th>\n",
       "      <td>120915.000000</td>\n",
       "      <td>120915.000000</td>\n",
       "    </tr>\n",
       "    <tr>\n",
       "      <th>mean</th>\n",
       "      <td>35.368796</td>\n",
       "      <td>88.421726</td>\n",
       "    </tr>\n",
       "    <tr>\n",
       "      <th>std</th>\n",
       "      <td>41.031188</td>\n",
       "      <td>3.044954</td>\n",
       "    </tr>\n",
       "    <tr>\n",
       "      <th>min</th>\n",
       "      <td>4.000000</td>\n",
       "      <td>80.000000</td>\n",
       "    </tr>\n",
       "    <tr>\n",
       "      <th>25%</th>\n",
       "      <td>17.000000</td>\n",
       "      <td>86.000000</td>\n",
       "    </tr>\n",
       "    <tr>\n",
       "      <th>50%</th>\n",
       "      <td>25.000000</td>\n",
       "      <td>88.000000</td>\n",
       "    </tr>\n",
       "    <tr>\n",
       "      <th>75%</th>\n",
       "      <td>42.000000</td>\n",
       "      <td>91.000000</td>\n",
       "    </tr>\n",
       "    <tr>\n",
       "      <th>max</th>\n",
       "      <td>3300.000000</td>\n",
       "      <td>100.000000</td>\n",
       "    </tr>\n",
       "  </tbody>\n",
       "</table>\n",
       "</div>"
      ],
      "text/plain": [
       "               price         points\n",
       "count  120915.000000  120915.000000\n",
       "mean       35.368796      88.421726\n",
       "std        41.031188       3.044954\n",
       "min         4.000000      80.000000\n",
       "25%        17.000000      86.000000\n",
       "50%        25.000000      88.000000\n",
       "75%        42.000000      91.000000\n",
       "max      3300.000000     100.000000"
      ]
     },
     "execution_count": 5,
     "metadata": {},
     "output_type": "execute_result"
    }
   ],
   "source": [
    "df.describe()"
   ]
  },
  {
   "cell_type": "code",
   "execution_count": 7,
   "metadata": {},
   "outputs": [
    {
     "data": {
      "text/html": [
       "<div>\n",
       "<style scoped>\n",
       "    .dataframe tbody tr th:only-of-type {\n",
       "        vertical-align: middle;\n",
       "    }\n",
       "\n",
       "    .dataframe tbody tr th {\n",
       "        vertical-align: top;\n",
       "    }\n",
       "\n",
       "    .dataframe thead th {\n",
       "        text-align: right;\n",
       "    }\n",
       "</style>\n",
       "<table border=\"1\" class=\"dataframe\">\n",
       "  <thead>\n",
       "    <tr style=\"text-align: right;\">\n",
       "      <th></th>\n",
       "      <th>title</th>\n",
       "      <th>variety</th>\n",
       "      <th>designation</th>\n",
       "      <th>country</th>\n",
       "      <th>province</th>\n",
       "      <th>description</th>\n",
       "      <th>price</th>\n",
       "      <th>winery</th>\n",
       "      <th>taster_name</th>\n",
       "      <th>points</th>\n",
       "    </tr>\n",
       "  </thead>\n",
       "  <tbody>\n",
       "    <tr>\n",
       "      <th>0</th>\n",
       "      <td>quinta dos avidagos 2011 avidagos red (douro)</td>\n",
       "      <td>portuguese red</td>\n",
       "      <td>avidagos</td>\n",
       "      <td>portugal</td>\n",
       "      <td>douro</td>\n",
       "      <td>this is ripe and fruity, a wine that is smooth...</td>\n",
       "      <td>15.0</td>\n",
       "      <td>quinta dos avidagos</td>\n",
       "      <td>roger voss</td>\n",
       "      <td>87</td>\n",
       "    </tr>\n",
       "    <tr>\n",
       "      <th>1</th>\n",
       "      <td>rainstorm 2013 pinot gris (willamette valley)</td>\n",
       "      <td>pinot gris</td>\n",
       "      <td>oregon</td>\n",
       "      <td>us</td>\n",
       "      <td>oregon</td>\n",
       "      <td>tart and snappy, the flavors of lime flesh and...</td>\n",
       "      <td>14.0</td>\n",
       "      <td>rainstorm</td>\n",
       "      <td>paul gregutt</td>\n",
       "      <td>87</td>\n",
       "    </tr>\n",
       "    <tr>\n",
       "      <th>2</th>\n",
       "      <td>st. julian 2013 reserve late harvest riesling ...</td>\n",
       "      <td>riesling</td>\n",
       "      <td>reserve late harvest</td>\n",
       "      <td>us</td>\n",
       "      <td>michigan</td>\n",
       "      <td>pineapple rind, lemon pith and orange blossom ...</td>\n",
       "      <td>13.0</td>\n",
       "      <td>st. julian</td>\n",
       "      <td>alexander peartree</td>\n",
       "      <td>87</td>\n",
       "    </tr>\n",
       "    <tr>\n",
       "      <th>3</th>\n",
       "      <td>sweet cheeks 2012 vintner's reserve wild child...</td>\n",
       "      <td>pinot noir</td>\n",
       "      <td>vintner's reserve wild child block</td>\n",
       "      <td>us</td>\n",
       "      <td>oregon</td>\n",
       "      <td>much like the regular bottling from 2012, this...</td>\n",
       "      <td>65.0</td>\n",
       "      <td>sweet cheeks</td>\n",
       "      <td>paul gregutt</td>\n",
       "      <td>87</td>\n",
       "    </tr>\n",
       "    <tr>\n",
       "      <th>4</th>\n",
       "      <td>tandem 2011 ars in vitro tempranillo-merlot (n...</td>\n",
       "      <td>tempranillo-merlot</td>\n",
       "      <td>ars in vitro</td>\n",
       "      <td>spain</td>\n",
       "      <td>northern spain</td>\n",
       "      <td>blackberry and raspberry aromas show a typical...</td>\n",
       "      <td>15.0</td>\n",
       "      <td>tandem</td>\n",
       "      <td>michael schachner</td>\n",
       "      <td>87</td>\n",
       "    </tr>\n",
       "    <tr>\n",
       "      <th>...</th>\n",
       "      <td>...</td>\n",
       "      <td>...</td>\n",
       "      <td>...</td>\n",
       "      <td>...</td>\n",
       "      <td>...</td>\n",
       "      <td>...</td>\n",
       "      <td>...</td>\n",
       "      <td>...</td>\n",
       "      <td>...</td>\n",
       "      <td>...</td>\n",
       "    </tr>\n",
       "    <tr>\n",
       "      <th>120910</th>\n",
       "      <td>dr. h. thanisch (erben müller-burggraef) 2013 ...</td>\n",
       "      <td>riesling</td>\n",
       "      <td>brauneberger juffer-sonnenuhr spätlese</td>\n",
       "      <td>germany</td>\n",
       "      <td>mosel</td>\n",
       "      <td>notes of honeysuckle and cantaloupe sweeten th...</td>\n",
       "      <td>28.0</td>\n",
       "      <td>dr. h. thanisch (erben müller-burggraef)</td>\n",
       "      <td>anna lee c. iijima</td>\n",
       "      <td>90</td>\n",
       "    </tr>\n",
       "    <tr>\n",
       "      <th>120911</th>\n",
       "      <td>citation 2004 pinot noir (oregon)</td>\n",
       "      <td>pinot noir</td>\n",
       "      <td>oregon</td>\n",
       "      <td>us</td>\n",
       "      <td>oregon</td>\n",
       "      <td>citation is given as much as a decade of bottl...</td>\n",
       "      <td>75.0</td>\n",
       "      <td>citation</td>\n",
       "      <td>paul gregutt</td>\n",
       "      <td>90</td>\n",
       "    </tr>\n",
       "    <tr>\n",
       "      <th>120912</th>\n",
       "      <td>domaine gresser 2013 kritt gewurztraminer (als...</td>\n",
       "      <td>gewürztraminer</td>\n",
       "      <td>kritt</td>\n",
       "      <td>france</td>\n",
       "      <td>alsace</td>\n",
       "      <td>well-drained gravel soil gives this wine its c...</td>\n",
       "      <td>30.0</td>\n",
       "      <td>domaine gresser</td>\n",
       "      <td>roger voss</td>\n",
       "      <td>90</td>\n",
       "    </tr>\n",
       "    <tr>\n",
       "      <th>120913</th>\n",
       "      <td>domaine marcel deiss 2012 pinot gris (alsace)</td>\n",
       "      <td>pinot gris</td>\n",
       "      <td>alsace</td>\n",
       "      <td>france</td>\n",
       "      <td>alsace</td>\n",
       "      <td>a dry style of pinot gris, this is crisp with ...</td>\n",
       "      <td>32.0</td>\n",
       "      <td>domaine marcel deiss</td>\n",
       "      <td>roger voss</td>\n",
       "      <td>90</td>\n",
       "    </tr>\n",
       "    <tr>\n",
       "      <th>120914</th>\n",
       "      <td>domaine schoffit 2012 lieu-dit harth cuvée car...</td>\n",
       "      <td>gewürztraminer</td>\n",
       "      <td>lieu-dit harth cuvée caroline</td>\n",
       "      <td>france</td>\n",
       "      <td>alsace</td>\n",
       "      <td>big, rich and off-dry, this is powered by inte...</td>\n",
       "      <td>21.0</td>\n",
       "      <td>domaine schoffit</td>\n",
       "      <td>roger voss</td>\n",
       "      <td>90</td>\n",
       "    </tr>\n",
       "  </tbody>\n",
       "</table>\n",
       "<p>120915 rows × 10 columns</p>\n",
       "</div>"
      ],
      "text/plain": [
       "                                                    title             variety  \\\n",
       "0           quinta dos avidagos 2011 avidagos red (douro)      portuguese red   \n",
       "1           rainstorm 2013 pinot gris (willamette valley)          pinot gris   \n",
       "2       st. julian 2013 reserve late harvest riesling ...            riesling   \n",
       "3       sweet cheeks 2012 vintner's reserve wild child...          pinot noir   \n",
       "4       tandem 2011 ars in vitro tempranillo-merlot (n...  tempranillo-merlot   \n",
       "...                                                   ...                 ...   \n",
       "120910  dr. h. thanisch (erben müller-burggraef) 2013 ...            riesling   \n",
       "120911                  citation 2004 pinot noir (oregon)          pinot noir   \n",
       "120912  domaine gresser 2013 kritt gewurztraminer (als...      gewürztraminer   \n",
       "120913      domaine marcel deiss 2012 pinot gris (alsace)          pinot gris   \n",
       "120914  domaine schoffit 2012 lieu-dit harth cuvée car...      gewürztraminer   \n",
       "\n",
       "                                   designation   country        province  \\\n",
       "0                                     avidagos  portugal           douro   \n",
       "1                                       oregon        us          oregon   \n",
       "2                         reserve late harvest        us        michigan   \n",
       "3           vintner's reserve wild child block        us          oregon   \n",
       "4                                 ars in vitro     spain  northern spain   \n",
       "...                                        ...       ...             ...   \n",
       "120910  brauneberger juffer-sonnenuhr spätlese   germany           mosel   \n",
       "120911                                  oregon        us          oregon   \n",
       "120912                                   kritt    france          alsace   \n",
       "120913                                  alsace    france          alsace   \n",
       "120914           lieu-dit harth cuvée caroline    france          alsace   \n",
       "\n",
       "                                              description  price  \\\n",
       "0       this is ripe and fruity, a wine that is smooth...   15.0   \n",
       "1       tart and snappy, the flavors of lime flesh and...   14.0   \n",
       "2       pineapple rind, lemon pith and orange blossom ...   13.0   \n",
       "3       much like the regular bottling from 2012, this...   65.0   \n",
       "4       blackberry and raspberry aromas show a typical...   15.0   \n",
       "...                                                   ...    ...   \n",
       "120910  notes of honeysuckle and cantaloupe sweeten th...   28.0   \n",
       "120911  citation is given as much as a decade of bottl...   75.0   \n",
       "120912  well-drained gravel soil gives this wine its c...   30.0   \n",
       "120913  a dry style of pinot gris, this is crisp with ...   32.0   \n",
       "120914  big, rich and off-dry, this is powered by inte...   21.0   \n",
       "\n",
       "                                          winery         taster_name  points  \n",
       "0                            quinta dos avidagos          roger voss      87  \n",
       "1                                      rainstorm        paul gregutt      87  \n",
       "2                                     st. julian  alexander peartree      87  \n",
       "3                                   sweet cheeks        paul gregutt      87  \n",
       "4                                         tandem   michael schachner      87  \n",
       "...                                          ...                 ...     ...  \n",
       "120910  dr. h. thanisch (erben müller-burggraef)  anna lee c. iijima      90  \n",
       "120911                                  citation        paul gregutt      90  \n",
       "120912                           domaine gresser          roger voss      90  \n",
       "120913                      domaine marcel deiss          roger voss      90  \n",
       "120914                          domaine schoffit          roger voss      90  \n",
       "\n",
       "[120915 rows x 10 columns]"
      ]
     },
     "execution_count": 7,
     "metadata": {},
     "output_type": "execute_result"
    }
   ],
   "source": [
    "df"
   ]
  },
  {
   "cell_type": "code",
   "execution_count": 8,
   "metadata": {},
   "outputs": [],
   "source": [
    "# del df[['taster_name','description','title']]\n",
    "df.taster_name.fillna(\"Unknown\")\n",
    "del df['description']\n",
    "del df['title']\n",
    "df=pd.get_dummies(df)"
   ]
  },
  {
   "cell_type": "code",
   "execution_count": 9,
   "metadata": {},
   "outputs": [],
   "source": [
    "labels=np.array(df['price'])"
   ]
  },
  {
   "cell_type": "code",
   "execution_count": 10,
   "metadata": {},
   "outputs": [],
   "source": [
    "df=df.drop('price',axis=1)"
   ]
  },
  {
   "cell_type": "code",
   "execution_count": 11,
   "metadata": {},
   "outputs": [],
   "source": [
    "df=df.values"
   ]
  },
  {
   "cell_type": "code",
   "execution_count": 12,
   "metadata": {},
   "outputs": [
    {
     "name": "stdout",
     "output_type": "stream",
     "text": [
      "Training Features Shape: (90686, 52753)\n",
      "Training Labels Shape: (90686,)\n",
      "Testing Features Shape: (30229, 52753)\n",
      "Testing Labels Shape: (30229,)\n"
     ]
    }
   ],
   "source": [
    "train_features, test_features, train_labels, test_labels = train_test_split(df, labels, test_size = 0.25, random_state = 42)\n",
    "print('Training Features Shape:', train_features.shape)\n",
    "print('Training Labels Shape:', train_labels.shape)\n",
    "print('Testing Features Shape:', test_features.shape)\n",
    "print('Testing Labels Shape:', test_labels.shape)"
   ]
  },
  {
   "cell_type": "code",
   "execution_count": null,
   "metadata": {},
   "outputs": [],
   "source": [
    "# Instantiate model with 1000 decision trees\n",
    "rf = RandomForestRegressor(n_estimators = 1000, random_state = 42)\n",
    "# Train the model on training data\n",
    "rf.fit(train_features, train_labels);"
   ]
  },
  {
   "cell_type": "code",
   "execution_count": null,
   "metadata": {},
   "outputs": [],
   "source": [
    "predictions = rf.predict(test_features)\n",
    "# Calculate the absolute errors\n",
    "errors = abs(predictions - test_labels)\n",
    "# Print out the mean absolute error (mae)\n",
    "print('Mean Absolute Error:', round(np.mean(errors), 2), 'degrees.')"
   ]
  },
  {
   "cell_type": "code",
   "execution_count": null,
   "metadata": {},
   "outputs": [],
   "source": []
  }
 ],
 "metadata": {
  "kernelspec": {
   "display_name": "Python 3",
   "language": "python",
   "name": "python3"
  },
  "language_info": {
   "codemirror_mode": {
    "name": "ipython",
    "version": 3
   },
   "file_extension": ".py",
   "mimetype": "text/x-python",
   "name": "python",
   "nbconvert_exporter": "python",
   "pygments_lexer": "ipython3",
   "version": "3.6.8"
  }
 },
 "nbformat": 4,
 "nbformat_minor": 2
}
