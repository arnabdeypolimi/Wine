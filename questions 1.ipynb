{
 "cells": [
  {
   "cell_type": "markdown",
   "metadata": {},
   "source": [
    "## Data Science Assigment for iGenius\n",
    "\n",
    "Before going to the first problem I need to clean the data and do feature engineering which is very import part of any machinelearning project. There are 3 problems, this notebook covers first problem and data cleanup. \n",
    "### Importing all the necessary library for the project "
   ]
  },
  {
   "cell_type": "code",
   "execution_count": 44,
   "metadata": {},
   "outputs": [],
   "source": [
    "import pandas as pd\n",
    "from sklearn import svm\n",
    "from sklearn.preprocessing import OneHotEncoder\n",
    "from sklearn import preprocessing\n",
    "import numpy as np\n",
    "from sklearn import linear_model\n",
    "from sklearn.model_selection import train_test_split\n",
    "from sklearn.ensemble import RandomForestRegressor, AdaBoostRegressor\n",
    "import matplotlib.pyplot as plt\n",
    "from catboost import Pool, CatBoostRegressor, cv\n",
    "from sklearn.tree import DecisionTreeRegressor"
   ]
  },
  {
   "cell_type": "markdown",
   "metadata": {},
   "source": [
    "## Load data\n",
    "Let's load the data and take a look at the structure of the data"
   ]
  },
  {
   "cell_type": "code",
   "execution_count": 2,
   "metadata": {},
   "outputs": [
    {
     "name": "stdout",
     "output_type": "stream",
     "text": [
      "Shape of the data: (129971, 10)\n"
     ]
    },
    {
     "data": {
      "text/html": [
       "<div>\n",
       "<style scoped>\n",
       "    .dataframe tbody tr th:only-of-type {\n",
       "        vertical-align: middle;\n",
       "    }\n",
       "\n",
       "    .dataframe tbody tr th {\n",
       "        vertical-align: top;\n",
       "    }\n",
       "\n",
       "    .dataframe thead th {\n",
       "        text-align: right;\n",
       "    }\n",
       "</style>\n",
       "<table border=\"1\" class=\"dataframe\">\n",
       "  <thead>\n",
       "    <tr style=\"text-align: right;\">\n",
       "      <th></th>\n",
       "      <th>title</th>\n",
       "      <th>variety</th>\n",
       "      <th>designation</th>\n",
       "      <th>country</th>\n",
       "      <th>province</th>\n",
       "      <th>description</th>\n",
       "      <th>price</th>\n",
       "      <th>winery</th>\n",
       "      <th>taster_name</th>\n",
       "      <th>points</th>\n",
       "    </tr>\n",
       "  </thead>\n",
       "  <tbody>\n",
       "    <tr>\n",
       "      <td>0</td>\n",
       "      <td>Nicosia 2013 Vulkà Bianco  (Etna)</td>\n",
       "      <td>White Blend</td>\n",
       "      <td>Vulkà Bianco</td>\n",
       "      <td>Italy</td>\n",
       "      <td>Sicily &amp; Sardinia</td>\n",
       "      <td>Aromas include tropical fruit, broom, brimston...</td>\n",
       "      <td>NaN</td>\n",
       "      <td>Nicosia</td>\n",
       "      <td>Kerin O’Keefe</td>\n",
       "      <td>87</td>\n",
       "    </tr>\n",
       "    <tr>\n",
       "      <td>1</td>\n",
       "      <td>Quinta dos Avidagos 2011 Avidagos Red (Douro)</td>\n",
       "      <td>Portuguese Red</td>\n",
       "      <td>Avidagos</td>\n",
       "      <td>Portugal</td>\n",
       "      <td>Douro</td>\n",
       "      <td>This is ripe and fruity, a wine that is smooth...</td>\n",
       "      <td>15.0</td>\n",
       "      <td>Quinta dos Avidagos</td>\n",
       "      <td>Roger Voss</td>\n",
       "      <td>87</td>\n",
       "    </tr>\n",
       "    <tr>\n",
       "      <td>2</td>\n",
       "      <td>Rainstorm 2013 Pinot Gris (Willamette Valley)</td>\n",
       "      <td>Pinot Gris</td>\n",
       "      <td>NaN</td>\n",
       "      <td>US</td>\n",
       "      <td>Oregon</td>\n",
       "      <td>Tart and snappy, the flavors of lime flesh and...</td>\n",
       "      <td>14.0</td>\n",
       "      <td>Rainstorm</td>\n",
       "      <td>Paul Gregutt</td>\n",
       "      <td>87</td>\n",
       "    </tr>\n",
       "    <tr>\n",
       "      <td>3</td>\n",
       "      <td>St. Julian 2013 Reserve Late Harvest Riesling ...</td>\n",
       "      <td>Riesling</td>\n",
       "      <td>Reserve Late Harvest</td>\n",
       "      <td>US</td>\n",
       "      <td>Michigan</td>\n",
       "      <td>Pineapple rind, lemon pith and orange blossom ...</td>\n",
       "      <td>13.0</td>\n",
       "      <td>St. Julian</td>\n",
       "      <td>Alexander Peartree</td>\n",
       "      <td>87</td>\n",
       "    </tr>\n",
       "    <tr>\n",
       "      <td>4</td>\n",
       "      <td>Sweet Cheeks 2012 Vintner's Reserve Wild Child...</td>\n",
       "      <td>Pinot Noir</td>\n",
       "      <td>Vintner's Reserve Wild Child Block</td>\n",
       "      <td>US</td>\n",
       "      <td>Oregon</td>\n",
       "      <td>Much like the regular bottling from 2012, this...</td>\n",
       "      <td>65.0</td>\n",
       "      <td>Sweet Cheeks</td>\n",
       "      <td>Paul Gregutt</td>\n",
       "      <td>87</td>\n",
       "    </tr>\n",
       "  </tbody>\n",
       "</table>\n",
       "</div>"
      ],
      "text/plain": [
       "                                               title         variety  \\\n",
       "0                  Nicosia 2013 Vulkà Bianco  (Etna)     White Blend   \n",
       "1      Quinta dos Avidagos 2011 Avidagos Red (Douro)  Portuguese Red   \n",
       "2      Rainstorm 2013 Pinot Gris (Willamette Valley)      Pinot Gris   \n",
       "3  St. Julian 2013 Reserve Late Harvest Riesling ...        Riesling   \n",
       "4  Sweet Cheeks 2012 Vintner's Reserve Wild Child...      Pinot Noir   \n",
       "\n",
       "                          designation   country           province  \\\n",
       "0                        Vulkà Bianco     Italy  Sicily & Sardinia   \n",
       "1                            Avidagos  Portugal              Douro   \n",
       "2                                 NaN        US             Oregon   \n",
       "3                Reserve Late Harvest        US           Michigan   \n",
       "4  Vintner's Reserve Wild Child Block        US             Oregon   \n",
       "\n",
       "                                         description  price  \\\n",
       "0  Aromas include tropical fruit, broom, brimston...    NaN   \n",
       "1  This is ripe and fruity, a wine that is smooth...   15.0   \n",
       "2  Tart and snappy, the flavors of lime flesh and...   14.0   \n",
       "3  Pineapple rind, lemon pith and orange blossom ...   13.0   \n",
       "4  Much like the regular bottling from 2012, this...   65.0   \n",
       "\n",
       "                winery         taster_name  points  \n",
       "0              Nicosia       Kerin O’Keefe      87  \n",
       "1  Quinta dos Avidagos          Roger Voss      87  \n",
       "2            Rainstorm        Paul Gregutt      87  \n",
       "3           St. Julian  Alexander Peartree      87  \n",
       "4         Sweet Cheeks        Paul Gregutt      87  "
      ]
     },
     "execution_count": 2,
     "metadata": {},
     "output_type": "execute_result"
    }
   ],
   "source": [
    "df=pd.read_csv(\"assignment_dataset.csv\") \n",
    "print(\"Shape of the data: \"+str(df.shape))\n",
    "df.head(5)"
   ]
  },
  {
   "cell_type": "markdown",
   "metadata": {},
   "source": [
    "## Data Cleanup\n",
    " - I have started by identifying the columns where missing values are present"
   ]
  },
  {
   "cell_type": "code",
   "execution_count": 3,
   "metadata": {},
   "outputs": [
    {
     "data": {
      "text/plain": [
       "['variety', 'designation', 'country', 'province', 'price', 'taster_name']"
      ]
     },
     "execution_count": 3,
     "metadata": {},
     "output_type": "execute_result"
    }
   ],
   "source": [
    "df.columns[df.isna().any()].tolist() "
   ]
  },
  {
   "cell_type": "markdown",
   "metadata": {},
   "source": [
    "- creating a bar plot to see which columns has how many missing values "
   ]
  },
  {
   "cell_type": "code",
   "execution_count": 4,
   "metadata": {},
   "outputs": [
    {
     "data": {
      "image/png": "[encoded data removed]",
      "text/plain": [
       "<Figure size 1440x720 with 1 Axes>"
      ]
     },
     "metadata": {
      "needs_background": "light"
     },
     "output_type": "display_data"
    }
   ],
   "source": [
    "list_of_col=df.columns\n",
    "y_1=[]\n",
    "u=[]\n",
    "y_2=[]\n",
    "for l in list_of_col:\n",
    "    y_1.append(len(df[df[l].isnull()]))\n",
    "    u.append(len(df[l].unique()))\n",
    "    y_2.append(len(df)-len(df[df[l].isnull()]))\n",
    "\n",
    "y_pos = np.arange(len(list_of_col))\n",
    "plt.figure(figsize=(20,10))\n",
    "plt.bar(y_pos, y_1, 0.50)\n",
    "plt.bar(y_pos, y_2, 0.50,bottom=y_1)\n",
    "plt.xticks(y_pos, list_of_col)\n",
    "plt.ylabel('number of samples')\n",
    "plt.xlabel('columns')\n",
    "plt.title('Number of missing values per column')\n",
    "for i, v in enumerate(y_1):\n",
    "    plt.text(y_pos[i] - 0.10, v + 0.10, str(v))\n",
    "plt.show()"
   ]
  },
  {
   "cell_type": "markdown",
   "metadata": {},
   "source": [
    "from the above plot we can see there are lot missing values for the `designation` coloum.\n",
    "  - so I am going to see some feature value for `designation` "
   ]
  },
  {
   "cell_type": "code",
   "execution_count": 5,
   "metadata": {
    "scrolled": true
   },
   "outputs": [
    {
     "data": {
      "text/plain": [
       "['#19 Phantom Limb Belmont Vineyard',\n",
       " '#50 Mon Chou',\n",
       " '#SocialSecret',\n",
       " '%@#$!',\n",
       " '&',\n",
       " \"'61 Rosé\",\n",
       " \"'A Rina\",\n",
       " \"'Blend 105' Red Wine\",\n",
       " \"'Na Vota\",\n",
       " \"'P'\"]"
      ]
     },
     "execution_count": 5,
     "metadata": {},
     "output_type": "execute_result"
    }
   ],
   "source": [
    "d=df.designation.fillna('unknown')\n",
    "sorted(d.unique().tolist())[:10]"
   ]
  },
  {
   "cell_type": "markdown",
   "metadata": {},
   "source": [
    "From the above list of `designation` values we can see that it's not a location as describe in the assignment \n",
    " - so I am not going to consider the `designation` column for my model\n",
    " - I replaced the missing values with 'unknown' in case of `taster_name` and `designation`\n",
    " - I removed the samples where `country` or `province` or `variety` has missing values because number of samples missing for these columns are very small compare to total number of samples."
   ]
  },
  {
   "cell_type": "code",
   "execution_count": 6,
   "metadata": {},
   "outputs": [],
   "source": [
    "df = df[df['variety'].notna()] #remvoing the row where variety is NaN\n",
    "df.designation.fillna('unknown', inplace=True) #replace missing designation replace with unknown\n",
    "df.taster_name.fillna('unknown', inplace=True) #replace missing taster_name with unknown\n",
    "df=df[df['country'].notna()] #remvoing the row where variety is NaN\n",
    "df=df[df['province'].notna()] #remvoing the row where province is NaN"
   ]
  },
  {
   "cell_type": "markdown",
   "metadata": {},
   "source": [
    "I have removed the smaples where `price` was missing and stored those samples in a different dataframe for future use"
   ]
  },
  {
   "cell_type": "code",
   "execution_count": 7,
   "metadata": {},
   "outputs": [
    {
     "name": "stdout",
     "output_type": "stream",
     "text": [
      "Number of samples where price is missing: 8992\n"
     ]
    }
   ],
   "source": [
    "print(\"Number of samples where price is missing: \"+str(len(df[df['price'].isnull()])))\n",
    "price_not_present=df[df['price'].isnull()]\n",
    "d_p=df[df['price'].notna()] #removing the data where price is not present "
   ]
  },
  {
   "cell_type": "markdown",
   "metadata": {},
   "source": [
    "Let's check if any column still have missing values "
   ]
  },
  {
   "cell_type": "code",
   "execution_count": 8,
   "metadata": {},
   "outputs": [
    {
     "name": "stdout",
     "output_type": "stream",
     "text": [
      "[]\n"
     ]
    }
   ],
   "source": [
    "print(d_p.columns[d_p.isna().any()].tolist())"
   ]
  },
  {
   "cell_type": "markdown",
   "metadata": {},
   "source": [
    "before doing anything more, I have converted all text to lowercase to avoide repetition because of the case of the alphabet\n",
    "\n",
    " - I have decided to plot the number of unique values present in each columns "
   ]
  },
  {
   "cell_type": "code",
   "execution_count": 9,
   "metadata": {},
   "outputs": [
    {
     "data": {
      "image/png": "[encoded data removed]",
      "text/plain": [
       "<Figure size 1440x720 with 1 Axes>"
      ]
     },
     "metadata": {
      "needs_background": "light"
     },
     "output_type": "display_data"
    }
   ],
   "source": [
    "d_l = d_p.apply(lambda x: x.str.lower() if x.dtype=='object' else x) #lowercase everything\n",
    "u=[]\n",
    "for l in list_of_col:\n",
    "    u.append(len(df[l].unique()))\n",
    "u_pos = np.arange(len(list_of_col))\n",
    "plt.figure(figsize=(20,10))\n",
    "plt.bar(u_pos, u, align='center', alpha=0.5)\n",
    "plt.xticks(u_pos, list_of_col)\n",
    "plt.ylabel('number of unique values')\n",
    "plt.xlabel('columns')\n",
    "plt.title('Number of unique values per column')\n",
    "for i, v in enumerate(u):\n",
    "    plt.text(u_pos[i] - 0.05, v + 0.05, str(v))\n",
    "plt.show()"
   ]
  },
  {
   "cell_type": "markdown",
   "metadata": {},
   "source": [
    "From the plot above you can a better understanding of the data.\n",
    " - Almost every sample in the data has unique `title`\n",
    " - Number of unique `designation` also very high \n",
    " - Almost all the samples has unique `descriptions`\n",
    " - Also number of unique `winery` is very large \n",
    " - there are very limited number of `taster_name` present \n",
    " - even though the `points` are given withing 0 to 100, but it more less range between 20 to 100\n",
    " - Other columns looks fine "
   ]
  },
  {
   "cell_type": "code",
   "execution_count": 10,
   "metadata": {},
   "outputs": [],
   "source": [
    "d_l.reset_index(drop=True, inplace=True) # reset the index of the dataframe after removing rows from the middle "
   ]
  },
  {
   "cell_type": "markdown",
   "metadata": {},
   "source": [
    "## Bar charts and categorical data\n",
    "\n",
    "It's a good way to see the data and analyze the data so I can make better decision "
   ]
  },
  {
   "cell_type": "code",
   "execution_count": 11,
   "metadata": {},
   "outputs": [
    {
     "data": {
      "text/plain": [
       "<matplotlib.axes._subplots.AxesSubplot at 0x284e5994448>"
      ]
     },
     "execution_count": 11,
     "metadata": {},
     "output_type": "execute_result"
    },
    {
     "data": {
      "image/png": "[encoded data removed]",
      "text/plain": [
       "<Figure size 432x288 with 1 Axes>"
      ]
     },
     "metadata": {
      "needs_background": "light"
     },
     "output_type": "display_data"
    }
   ],
   "source": [
    "(d_l['province'].value_counts().head(10) / len(d_l)).plot.bar()"
   ]
  },
  {
   "cell_type": "markdown",
   "metadata": {},
   "source": [
    "From the plot of the province we can see that california produce more wine than any other province. This plot shows in relative proportion. California produces almost a third of wines."
   ]
  },
  {
   "cell_type": "code",
   "execution_count": 12,
   "metadata": {},
   "outputs": [
    {
     "data": {
      "text/plain": [
       "<matplotlib.axes._subplots.AxesSubplot at 0x284e8015a88>"
      ]
     },
     "execution_count": 12,
     "metadata": {},
     "output_type": "execute_result"
    },
    {
     "data": {
      "image/png": "[encoded data removed]",
      "text/plain": [
       "<Figure size 432x288 with 1 Axes>"
      ]
     },
     "metadata": {
      "needs_background": "light"
     },
     "output_type": "display_data"
    }
   ],
   "source": [
    "d_l['points'].value_counts().sort_index().plot.bar()"
   ]
  },
  {
   "cell_type": "markdown",
   "metadata": {},
   "source": [
    "As you can see, every wine is allotted an overall score between 80 and 100. Where higher number means better. Lowest score is 80 and best score received by a wine is 100"
   ]
  },
  {
   "cell_type": "code",
   "execution_count": 13,
   "metadata": {},
   "outputs": [
    {
     "data": {
      "text/plain": [
       "<matplotlib.axes._subplots.AxesSubplot at 0x284e808f608>"
      ]
     },
     "execution_count": 13,
     "metadata": {},
     "output_type": "execute_result"
    },
    {
     "data": {
      "image/png": "[encoded data removed]",
      "text/plain": [
       "<Figure size 432x288 with 1 Axes>"
      ]
     },
     "metadata": {
      "needs_background": "light"
     },
     "output_type": "display_data"
    }
   ],
   "source": [
    "d_l['price'].plot.hist()"
   ]
  },
  {
   "cell_type": "markdown",
   "metadata": {},
   "source": [
    "Shows that most of the wines cost less than 300. So let focus on that price range and plot the histogram again"
   ]
  },
  {
   "cell_type": "code",
   "execution_count": 14,
   "metadata": {},
   "outputs": [
    {
     "data": {
      "text/plain": [
       "<matplotlib.axes._subplots.AxesSubplot at 0x284e80cc0c8>"
      ]
     },
     "execution_count": 14,
     "metadata": {},
     "output_type": "execute_result"
    },
    {
     "data": {
      "image/png": "[encoded data removed]",
      "text/plain": [
       "<Figure size 432x288 with 1 Axes>"
      ]
     },
     "metadata": {
      "needs_background": "light"
     },
     "output_type": "display_data"
    }
   ],
   "source": [
    "d_l[d_l['price'] < 200]['price'].plot.hist()"
   ]
  },
  {
   "cell_type": "markdown",
   "metadata": {},
   "source": [
    "This plot shows us better price distribution of wines. Most of the wines cost less than 25. We can make this a classification problem also by creating different buckets for price."
   ]
  },
  {
   "cell_type": "code",
   "execution_count": 15,
   "metadata": {},
   "outputs": [
    {
     "data": {
      "text/plain": [
       "<matplotlib.axes._subplots.AxesSubplot at 0x284f2e77c08>"
      ]
     },
     "execution_count": 15,
     "metadata": {},
     "output_type": "execute_result"
    },
    {
     "data": {
      "image/png": "[encoded data removed]",
      "text/plain": [
       "<Figure size 432x288 with 1 Axes>"
      ]
     },
     "metadata": {
      "needs_background": "light"
     },
     "output_type": "display_data"
    }
   ],
   "source": [
    "d_l[d_l['price'] > 200]['price'].plot.hist()"
   ]
  },
  {
   "cell_type": "markdown",
   "metadata": {},
   "source": [
    "There are very less wine which cost more than 200. By the histogram of the price we get a better idea about the price distribution in our dataset "
   ]
  },
  {
   "cell_type": "markdown",
   "metadata": {},
   "source": [
    "Question ask to predict `price` of the wine from the given information about the wine. The problem is a regression problem where model will learn a function from the training data and it will predict price for a new sample. \n",
    "First thing I can see: We have many categorical features so there are couple of methods I can follow to prepare this data for regression. \n",
    " - first thing I have tried to use basic regression model provide by sklearn\n",
    " - So I converted the categorical features by one-hot encoding, also tried to use label encoding \n",
    " - As I have noticed after one-hot encoding my feature vector became too large\n",
    " - Large feature vector create memory problem to run Randomforest or support vector mechine\n",
    " - I have decide to use only few feature as input like `variety`, `country`, `taster_name`, and `point`"
   ]
  },
  {
   "cell_type": "code",
   "execution_count": 66,
   "metadata": {},
   "outputs": [],
   "source": [
    "def encode_and_bind(original_dataframe, feature_to_encode):\n",
    "    dummies = pd.get_dummies(original_dataframe[[feature_to_encode]])\n",
    "    res=dummies\n",
    "    return(res)\n",
    "varieties=encode_and_bind(d_l,'variety')\n",
    "countries=encode_and_bind(d_l, 'country')\n",
    "# proviences=encode_and_bind(d_l, 'province')\n",
    "# wineries=encode_and_bind(d_l,'winery')\n",
    "taster=encode_and_bind(d_l,'taster_name')\n",
    "p = d_l['points']/100 #scaling \n",
    "x=pd.concat([p, countries, varieties, taster], axis=1, ignore_index=True)\n",
    "\n",
    "# def label_encode(dataframe,field): \n",
    "#     le = preprocessing.LabelEncoder()\n",
    "#     le.fit(d_l[field])\n",
    "#     return le.transform(d_l[field]).reshape(-1,1)\n",
    "# varieties=label_encode(d_l,'variety')\n",
    "# countries=label_encode(d_l, 'country')\n",
    "# proviences=label_encode(d_l, 'province')\n",
    "# # wineries=label_encode(d_l,'winery')\n",
    "# taster_names=label_encode(d_l,'taster_name')\n",
    "# p = d_l['points'] \n",
    "# x=np.column_stack((varieties,countries,p))\n"
   ]
  },
  {
   "cell_type": "markdown",
   "metadata": {},
   "source": [
    "## Dataset preparation\n",
    "\n",
    "- I have reshaped the price to create label \n",
    "- then I have created training test split with fuction from sklearn \n",
    "- I have splited the data in 80:20, 80% sample for training and 20% for test "
   ]
  },
  {
   "cell_type": "code",
   "execution_count": 67,
   "metadata": {},
   "outputs": [],
   "source": [
    "y=d_l['price'].values.reshape(-1,1) #reshaped the price to create labels\n",
    "X_train, X_test, y_train, y_test = train_test_split(x.values, y, test_size=0.2, random_state=42)"
   ]
  },
  {
   "cell_type": "markdown",
   "metadata": {},
   "source": [
    "## Model training\n",
    "\n",
    "- First I have tried the RandomForestRegressor from sklearn library. I have tried RandomForest because randomforest geberally work good because it does random sampling of the data and create many decision tree and result is avg of all decision tree. I have calculated mean absolute error for test set to evaluate model performance. "
   ]
  },
  {
   "cell_type": "code",
   "execution_count": 35,
   "metadata": {},
   "outputs": [
    {
     "name": "stderr",
     "output_type": "stream",
     "text": [
      "C:\\Users\\ARNAB\\Anaconda3\\lib\\site-packages\\ipykernel_launcher.py:2: DataConversionWarning: A column-vector y was passed when a 1d array was expected. Please change the shape of y to (n_samples,), for example using ravel().\n",
      "  \n"
     ]
    },
    {
     "data": {
      "text/plain": [
       "RandomForestRegressor(bootstrap=True, criterion='mse', max_depth=None,\n",
       "                      max_features='auto', max_leaf_nodes=None,\n",
       "                      min_impurity_decrease=0.0, min_impurity_split=None,\n",
       "                      min_samples_leaf=1, min_samples_split=2,\n",
       "                      min_weight_fraction_leaf=0.0, n_estimators=100,\n",
       "                      n_jobs=None, oob_score=False, random_state=42, verbose=0,\n",
       "                      warm_start=False)"
      ]
     },
     "execution_count": 35,
     "metadata": {},
     "output_type": "execute_result"
    }
   ],
   "source": [
    "regr = RandomForestRegressor(n_estimators=100, random_state=42)\n",
    "regr.fit(X_train, y_train)"
   ]
  },
  {
   "cell_type": "code",
   "execution_count": 36,
   "metadata": {},
   "outputs": [
    {
     "name": "stdout",
     "output_type": "stream",
     "text": [
      "Mean Absolute Error: 25.46 degrees.\n"
     ]
    }
   ],
   "source": [
    "predictions = regr.predict(X_test)\n",
    "# Calculate the absolute errors\n",
    "errors = abs(predictions - y_test)\n",
    "# Print out the mean absolute error (mae)\n",
    "print('Mean Absolute Error:', round(np.mean(errors), 2), 'degrees.')"
   ]
  },
  {
   "cell_type": "markdown",
   "metadata": {},
   "source": [
    "We can see that result of randomforest model. Where mean absolute error is 25.46 degrees which is not so good so we will try some other models "
   ]
  },
  {
   "cell_type": "markdown",
   "metadata": {},
   "source": [
    "## Catboost \n",
    "\n",
    "I have decided to use the [catboost library](https://catboost.ai/docs/concepts/python-reference_catboostregressor.html) because of it's performance \n",
    "\n",
    "- I have prepared the data and created an array to input index of the categorical features \n",
    "- We have created train, test and validation set with 70%, 15%, and 15% samples respectively "
   ]
  },
  {
   "cell_type": "code",
   "execution_count": 73,
   "metadata": {},
   "outputs": [
    {
     "name": "stdout",
     "output_type": "stream",
     "text": [
      "Index(['variety', 'designation', 'country', 'province', 'winery',\n",
      "       'taster_name', 'points'],\n",
      "      dtype='object')\n"
     ]
    }
   ],
   "source": [
    "y=d_l['price'].values.reshape(-1,1)\n",
    "X=d_l[['variety', 'designation', 'country', 'province', 'winery',\n",
    "       'taster_name', 'points']]\n",
    "print(X.columns)\n",
    "categorical_features_indices =[0,1,2,3,4,5]\n",
    "X_train, X_test, y_train, y_test = train_test_split(X, y, test_size=0.3, \n",
    "                                                    random_state=42)\n",
    "\n",
    "X_test, X_valid, y_test, y_valid = train_test_split(X_test, y_test, test_size=0.5, \n",
    "                                                    random_state=42)"
   ]
  },
  {
   "cell_type": "code",
   "execution_count": 74,
   "metadata": {},
   "outputs": [],
   "source": [
    "def perform_model(X_train, y_train,X_valid, y_valid,X_test, y_test):\n",
    "    model = CatBoostRegressor(\n",
    "        random_seed = 400,\n",
    "        loss_function = 'RMSE',\n",
    "        iterations=100,\n",
    "    )\n",
    "    \n",
    "    model.fit(\n",
    "        X_train, y_train,\n",
    "        cat_features = categorical_features_indices,\n",
    "        eval_set=(X_valid, y_valid),\n",
    "        verbose=False\n",
    "    )\n",
    "    \n",
    "    print(\"RMSE on training data: \"+ model.score(X_train, y_train).astype(str))\n",
    "    print(\"RMSE on test data: \"+ model.score(X_test, y_test).astype(str))\n",
    "    \n",
    "    return model"
   ]
  },
  {
   "cell_type": "code",
   "execution_count": null,
   "metadata": {},
   "outputs": [],
   "source": [
    "model=perform_model(X_train, y_train,X_valid, y_valid,X_test, y_test)"
   ]
  },
  {
   "cell_type": "code",
   "execution_count": null,
   "metadata": {},
   "outputs": [],
   "source": [
    "feature_score = pd.DataFrame(list(zip(X.dtypes.index, model.get_feature_importance(Pool(X, label=y, cat_features=categorical_features_indices)))),\n",
    "                columns=['Feature','Score'])\n",
    "\n",
    "feature_score = feature_score.sort_values(by='Score', ascending=False, inplace=False, kind='quicksort', na_position='last')"
   ]
  },
  {
   "cell_type": "code",
   "execution_count": null,
   "metadata": {},
   "outputs": [],
   "source": [
    "plt.rcParams[\"figure.figsize\"] = (12,7)\n",
    "ax = feature_score.plot('Feature', 'Score', kind='bar', color='c')\n",
    "ax.set_title(\"Catboost Feature Importance Ranking\", fontsize = 14)\n",
    "ax.set_xlabel('')\n",
    "\n",
    "rects = ax.patches\n",
    "\n",
    "labels = feature_score['Score'].round(2)\n",
    "\n",
    "for rect, label in zip(rects, labels):\n",
    "    height = rect.get_height()\n",
    "    ax.text(rect.get_x() + rect.get_width()/2, height + 0.35, label, ha='center', va='bottom')\n",
    "\n",
    "plt.show()"
   ]
  },
  {
   "cell_type": "markdown",
   "metadata": {},
   "source": [
    "## AdaBoostRegressor\n",
    "\n",
    "[AdaBoostRegressor](https://scikit-learn.org/stable/modules/generated/sklearn.ensemble.AdaBoostRegressor.html) model is provided by scikit learn. This is based on decision tree regressor. It begins by fitting a regressor on the original dataset and then fits additional copies of the regressor on the same dataset but where the weights of instances are adjusted according to the error of the current prediction. As such, subsequent regressors focus more on difficult cases."
   ]
  },
  {
   "cell_type": "markdown",
   "metadata": {},
   "source": [
    "rng = np.random.RandomState(1)\n",
    "regr = AdaBoostRegressor( DecisionTreeRegressor(max_depth=200, random_state=42),n_estimators=500, loss='square', random_state=42)\n",
    "regr.fit(X_train, y_train)"
   ]
  },
  {
   "cell_type": "code",
   "execution_count": 69,
   "metadata": {},
   "outputs": [
    {
     "name": "stdout",
     "output_type": "stream",
     "text": [
      "RMSE on training data: 0.4377381038297395\n",
      "RMSE on test data: 0.24841476445555277\n"
     ]
    }
   ],
   "source": [
    "print(\"RMSE on training data: \"+ regr.score(X_train, y_train).astype(str))\n",
    "print(\"RMSE on test data: \"+ regr.score(X_test, y_test).astype(str))"
   ]
  },
  {
   "cell_type": "markdown",
   "metadata": {},
   "source": [
    "From the result we can see that RMSE error for training set is 0.43 and test set is 0.28. which is better than the previous models but still not good "
   ]
  },
  {
   "cell_type": "markdown",
   "metadata": {},
   "source": [
    "In the I have saved the processed dataframe as csv so that I can use it for second question"
   ]
  },
  {
   "cell_type": "code",
   "execution_count": 38,
   "metadata": {},
   "outputs": [],
   "source": [
    "d_l.to_csv('dataprocessed.csv',index=False)"
   ]
  }
 ],
 "metadata": {
  "kernelspec": {
   "display_name": "Python 3",
   "language": "python",
   "name": "python3"
  },
  "language_info": {
   "codemirror_mode": {
    "name": "ipython",
    "version": 3
   },
   "file_extension": ".py",
   "mimetype": "text/x-python",
   "name": "python",
   "nbconvert_exporter": "python",
   "pygments_lexer": "ipython3",
   "version": "3.7.4"
  }
 },
 "nbformat": 4,
 "nbformat_minor": 2
}
